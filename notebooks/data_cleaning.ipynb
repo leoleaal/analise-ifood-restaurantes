{
 "cells": [
  {
   "cell_type": "code",
   "execution_count": 1,
   "id": "78d67690-cc43-4ef5-a4fb-1658e0dba171",
   "metadata": {},
   "outputs": [
    {
     "name": "stdout",
     "output_type": "stream",
     "text": [
      "(406399, 14)\n",
      "<class 'pandas.core.frame.DataFrame'>\n",
      "RangeIndex: 406399 entries, 0 to 406398\n",
      "Data columns (total 14 columns):\n",
      " #   Column                  Non-Null Count   Dtype  \n",
      "---  ------                  --------------   -----  \n",
      " 0   availableForScheduling  406399 non-null  bool   \n",
      " 1   avatar                  406122 non-null  object \n",
      " 2   category                406399 non-null  object \n",
      " 3   delivery_fee            406399 non-null  float64\n",
      " 4   delivery_time           406399 non-null  int64  \n",
      " 5   distance                406399 non-null  float64\n",
      " 6   ibge                    406399 non-null  int64  \n",
      " 7   minimumOrderValue       406399 non-null  float64\n",
      " 8   name                    406399 non-null  object \n",
      " 9   paymentCodes            406397 non-null  object \n",
      " 10  price_range             406399 non-null  object \n",
      " 11  rating                  406399 non-null  float64\n",
      " 12  tags                    406399 non-null  object \n",
      " 13  url                     406399 non-null  object \n",
      "dtypes: bool(1), float64(4), int64(2), object(7)\n",
      "memory usage: 40.7+ MB\n",
      "None\n"
     ]
    },
    {
     "data": {
      "text/html": [
       "<div>\n",
       "<style scoped>\n",
       "    .dataframe tbody tr th:only-of-type {\n",
       "        vertical-align: middle;\n",
       "    }\n",
       "\n",
       "    .dataframe tbody tr th {\n",
       "        vertical-align: top;\n",
       "    }\n",
       "\n",
       "    .dataframe thead th {\n",
       "        text-align: right;\n",
       "    }\n",
       "</style>\n",
       "<table border=\"1\" class=\"dataframe\">\n",
       "  <thead>\n",
       "    <tr style=\"text-align: right;\">\n",
       "      <th></th>\n",
       "      <th>availableForScheduling</th>\n",
       "      <th>avatar</th>\n",
       "      <th>category</th>\n",
       "      <th>delivery_fee</th>\n",
       "      <th>delivery_time</th>\n",
       "      <th>distance</th>\n",
       "      <th>ibge</th>\n",
       "      <th>minimumOrderValue</th>\n",
       "      <th>name</th>\n",
       "      <th>paymentCodes</th>\n",
       "      <th>price_range</th>\n",
       "      <th>rating</th>\n",
       "      <th>tags</th>\n",
       "      <th>url</th>\n",
       "    </tr>\n",
       "  </thead>\n",
       "  <tbody>\n",
       "    <tr>\n",
       "      <th>0</th>\n",
       "      <td>False</td>\n",
       "      <td>https://static-images.ifood.com.br/image/uploa...</td>\n",
       "      <td>Marmita</td>\n",
       "      <td>3.99</td>\n",
       "      <td>27</td>\n",
       "      <td>1.22</td>\n",
       "      <td>5300108</td>\n",
       "      <td>10.0</td>\n",
       "      <td>Cantina Arte &amp; Sabor</td>\n",
       "      <td>DNR $$ MPAY $$ MOVPAY_MC $$ MC $$ GPY_ELO $$ E...</td>\n",
       "      <td>CHEAPEST</td>\n",
       "      <td>0.0</td>\n",
       "      <td>ADDRESS_PREFORM_TYPE $$ CART::MCHT::100_DELIVE...</td>\n",
       "      <td>https://www.ifood.com.br/delivery/brasilia-df/...</td>\n",
       "    </tr>\n",
       "    <tr>\n",
       "      <th>1</th>\n",
       "      <td>False</td>\n",
       "      <td>https://static-images.ifood.com.br/image/uploa...</td>\n",
       "      <td>Açaí</td>\n",
       "      <td>7.99</td>\n",
       "      <td>61</td>\n",
       "      <td>4.96</td>\n",
       "      <td>5300108</td>\n",
       "      <td>10.0</td>\n",
       "      <td>Raruty Açaí Raiz</td>\n",
       "      <td>DNR $$ MPAY $$ MOVPAY_MC $$ MC $$ GPY_ELO $$ E...</td>\n",
       "      <td>CHEAPEST</td>\n",
       "      <td>0.0</td>\n",
       "      <td>ADDRESS_PREFORM_TYPE $$ GUIDED_HELP_TYPE $$ ME...</td>\n",
       "      <td>https://www.ifood.com.br/delivery/brasilia-df/...</td>\n",
       "    </tr>\n",
       "    <tr>\n",
       "      <th>2</th>\n",
       "      <td>False</td>\n",
       "      <td>https://static-images.ifood.com.br/image/uploa...</td>\n",
       "      <td>Bebidas</td>\n",
       "      <td>11.99</td>\n",
       "      <td>70</td>\n",
       "      <td>8.35</td>\n",
       "      <td>5300108</td>\n",
       "      <td>5.0</td>\n",
       "      <td>Toma na Kombi</td>\n",
       "      <td>DNR $$ MPAY $$ MOVPAY_MC $$ MC $$ GPY_ELO $$ R...</td>\n",
       "      <td>MODERATE</td>\n",
       "      <td>0.0</td>\n",
       "      <td>ADDRESS_PREFORM_TYPE $$ CPGN_USER_DISCOUNT_6_L...</td>\n",
       "      <td>https://www.ifood.com.br/delivery/brasilia-df/...</td>\n",
       "    </tr>\n",
       "    <tr>\n",
       "      <th>3</th>\n",
       "      <td>False</td>\n",
       "      <td>https://static-images.ifood.com.br/image/uploa...</td>\n",
       "      <td>Carnes</td>\n",
       "      <td>16.49</td>\n",
       "      <td>63</td>\n",
       "      <td>6.35</td>\n",
       "      <td>5300108</td>\n",
       "      <td>20.0</td>\n",
       "      <td>Churrasquinho do Barriga´s</td>\n",
       "      <td>DNR $$ MPAY $$ MOVPAY_MC $$ MC $$ GPY_ELO $$ E...</td>\n",
       "      <td>CHEAPEST</td>\n",
       "      <td>0.0</td>\n",
       "      <td>ADDRESS_PREFORM_TYPE $$ GUIDED_HELP_TYPE $$ NO...</td>\n",
       "      <td>https://www.ifood.com.br/delivery/brasilia-df/...</td>\n",
       "    </tr>\n",
       "    <tr>\n",
       "      <th>4</th>\n",
       "      <td>False</td>\n",
       "      <td>https://static-images.ifood.com.br/image/uploa...</td>\n",
       "      <td>Brasileira</td>\n",
       "      <td>11.99</td>\n",
       "      <td>58</td>\n",
       "      <td>5.22</td>\n",
       "      <td>5300108</td>\n",
       "      <td>20.0</td>\n",
       "      <td>Prime Restaurante</td>\n",
       "      <td>DNR $$ MPAY $$ MOVPAY_MC $$ MC $$ GPY_ELO $$ E...</td>\n",
       "      <td>CHEAPEST</td>\n",
       "      <td>0.0</td>\n",
       "      <td>ADDRESS_PREFORM_TYPE $$ GUIDED_HELP_TYPE $$ NOVO</td>\n",
       "      <td>https://www.ifood.com.br/delivery/brasilia-df/...</td>\n",
       "    </tr>\n",
       "  </tbody>\n",
       "</table>\n",
       "</div>"
      ],
      "text/plain": [
       "   availableForScheduling                                             avatar  \\\n",
       "0                   False  https://static-images.ifood.com.br/image/uploa...   \n",
       "1                   False  https://static-images.ifood.com.br/image/uploa...   \n",
       "2                   False  https://static-images.ifood.com.br/image/uploa...   \n",
       "3                   False  https://static-images.ifood.com.br/image/uploa...   \n",
       "4                   False  https://static-images.ifood.com.br/image/uploa...   \n",
       "\n",
       "     category  delivery_fee  delivery_time  distance     ibge  \\\n",
       "0     Marmita          3.99             27      1.22  5300108   \n",
       "1        Açaí          7.99             61      4.96  5300108   \n",
       "2     Bebidas         11.99             70      8.35  5300108   \n",
       "3      Carnes         16.49             63      6.35  5300108   \n",
       "4  Brasileira         11.99             58      5.22  5300108   \n",
       "\n",
       "   minimumOrderValue                        name  \\\n",
       "0               10.0        Cantina Arte & Sabor   \n",
       "1               10.0            Raruty Açaí Raiz   \n",
       "2                5.0               Toma na Kombi   \n",
       "3               20.0  Churrasquinho do Barriga´s   \n",
       "4               20.0           Prime Restaurante   \n",
       "\n",
       "                                        paymentCodes price_range  rating  \\\n",
       "0  DNR $$ MPAY $$ MOVPAY_MC $$ MC $$ GPY_ELO $$ E...    CHEAPEST     0.0   \n",
       "1  DNR $$ MPAY $$ MOVPAY_MC $$ MC $$ GPY_ELO $$ E...    CHEAPEST     0.0   \n",
       "2  DNR $$ MPAY $$ MOVPAY_MC $$ MC $$ GPY_ELO $$ R...    MODERATE     0.0   \n",
       "3  DNR $$ MPAY $$ MOVPAY_MC $$ MC $$ GPY_ELO $$ E...    CHEAPEST     0.0   \n",
       "4  DNR $$ MPAY $$ MOVPAY_MC $$ MC $$ GPY_ELO $$ E...    CHEAPEST     0.0   \n",
       "\n",
       "                                                tags  \\\n",
       "0  ADDRESS_PREFORM_TYPE $$ CART::MCHT::100_DELIVE...   \n",
       "1  ADDRESS_PREFORM_TYPE $$ GUIDED_HELP_TYPE $$ ME...   \n",
       "2  ADDRESS_PREFORM_TYPE $$ CPGN_USER_DISCOUNT_6_L...   \n",
       "3  ADDRESS_PREFORM_TYPE $$ GUIDED_HELP_TYPE $$ NO...   \n",
       "4   ADDRESS_PREFORM_TYPE $$ GUIDED_HELP_TYPE $$ NOVO   \n",
       "\n",
       "                                                 url  \n",
       "0  https://www.ifood.com.br/delivery/brasilia-df/...  \n",
       "1  https://www.ifood.com.br/delivery/brasilia-df/...  \n",
       "2  https://www.ifood.com.br/delivery/brasilia-df/...  \n",
       "3  https://www.ifood.com.br/delivery/brasilia-df/...  \n",
       "4  https://www.ifood.com.br/delivery/brasilia-df/...  "
      ]
     },
     "execution_count": 1,
     "metadata": {},
     "output_type": "execute_result"
    }
   ],
   "source": [
    "# Importação de bibliotecas\n",
    "import pandas as pd\n",
    "import numpy as np\n",
    "\n",
    "# Carregando o dataset bruto\n",
    "df = pd.read_csv('../data/ifood-restaurants-february-2021.csv')\n",
    "\n",
    "# Visão geral dos dados\n",
    "print(df.shape)\n",
    "print(df.info())\n",
    "df.describe(include='all')\n",
    "df.head()"
   ]
  },
  {
   "cell_type": "code",
   "execution_count": 2,
   "id": "60932283-657c-4ef2-948b-cc0fb0d01236",
   "metadata": {},
   "outputs": [
    {
     "data": {
      "text/plain": [
       "avatar                    277\n",
       "paymentCodes                2\n",
       "availableForScheduling      0\n",
       "category                    0\n",
       "delivery_fee                0\n",
       "delivery_time               0\n",
       "distance                    0\n",
       "ibge                        0\n",
       "minimumOrderValue           0\n",
       "name                        0\n",
       "price_range                 0\n",
       "rating                      0\n",
       "tags                        0\n",
       "url                         0\n",
       "dtype: int64"
      ]
     },
     "execution_count": 2,
     "metadata": {},
     "output_type": "execute_result"
    }
   ],
   "source": [
    "# Verificando valores ausentes\n",
    "df.isnull().sum().sort_values(ascending=False)"
   ]
  },
  {
   "cell_type": "code",
   "execution_count": 3,
   "id": "ad1360db-5680-4122-ab3f-a8e1b8d2c7bf",
   "metadata": {},
   "outputs": [],
   "source": [
    "# Tratando valores nulos (coluna avatar) \n",
    "# Preencher com uma string padrão como \"sem_avatar\"\n",
    "df['avatar'] = df['avatar'].fillna('sem_avatar')\n",
    "\n",
    "# Preencher com \"desconhecido\" (para manter a linha)\n",
    "df['paymentCodes'] = df['paymentCodes'].fillna('desconhecido')"
   ]
  },
  {
   "cell_type": "code",
   "execution_count": 4,
   "id": "edd08cc9-b07b-41a8-ba1b-af7b402ffa61",
   "metadata": {},
   "outputs": [
    {
     "data": {
      "text/plain": [
       "availableForScheduling    0\n",
       "avatar                    0\n",
       "category                  0\n",
       "delivery_fee              0\n",
       "delivery_time             0\n",
       "distance                  0\n",
       "ibge                      0\n",
       "minimumOrderValue         0\n",
       "name                      0\n",
       "paymentCodes              0\n",
       "price_range               0\n",
       "rating                    0\n",
       "tags                      0\n",
       "url                       0\n",
       "dtype: int64"
      ]
     },
     "execution_count": 4,
     "metadata": {},
     "output_type": "execute_result"
    }
   ],
   "source": [
    "# Conferindo se o tratamento funcionou\n",
    "df.isnull().sum()"
   ]
  },
  {
   "cell_type": "code",
   "execution_count": 5,
   "id": "6b8a3c7e-b584-48d0-a5f0-f184cb4489dc",
   "metadata": {},
   "outputs": [
    {
     "data": {
      "text/plain": [
       "0"
      ]
     },
     "execution_count": 5,
     "metadata": {},
     "output_type": "execute_result"
    }
   ],
   "source": [
    "# Verificando duplicatas\n",
    "df.duplicated().sum()"
   ]
  },
  {
   "cell_type": "code",
   "execution_count": 6,
   "id": "1146b7d6-c914-4b42-969c-5d08615b6cc3",
   "metadata": {},
   "outputs": [],
   "source": [
    "# Removendo duplicatas\n",
    "df.drop_duplicates(inplace=True)"
   ]
  },
  {
   "cell_type": "code",
   "execution_count": 7,
   "id": "b86c8070-3854-4fcc-a3b0-a36a37f1d595",
   "metadata": {},
   "outputs": [
    {
     "data": {
      "text/plain": [
       "Index(['availableForScheduling', 'avatar', 'category', 'delivery_fee',\n",
       "       'delivery_time', 'distance', 'ibge', 'minimumOrderValue', 'name',\n",
       "       'paymentCodes', 'price_range', 'rating', 'tags', 'url'],\n",
       "      dtype='object')"
      ]
     },
     "execution_count": 7,
     "metadata": {},
     "output_type": "execute_result"
    }
   ],
   "source": [
    "df.columns"
   ]
  },
  {
   "cell_type": "code",
   "execution_count": 8,
   "id": "16c76273-a44e-4076-bea0-74072d7bc419",
   "metadata": {},
   "outputs": [
    {
     "name": "stdout",
     "output_type": "stream",
     "text": [
      "float64\n"
     ]
    }
   ],
   "source": [
    "df['minimumOrderValue'].head()\n",
    "print(df['minimumOrderValue'].dtype)"
   ]
  },
  {
   "cell_type": "code",
   "execution_count": 9,
   "id": "98eab352-5002-43dc-8e4f-5af30ed64092",
   "metadata": {},
   "outputs": [
    {
     "data": {
      "text/plain": [
       "availableForScheduling       bool\n",
       "avatar                     object\n",
       "category                   object\n",
       "delivery_fee              float64\n",
       "delivery_time               int64\n",
       "distance                  float64\n",
       "ibge                        int64\n",
       "minimumOrderValue         float64\n",
       "name                       object\n",
       "paymentCodes               object\n",
       "price_range                object\n",
       "rating                    float64\n",
       "tags                       object\n",
       "url                        object\n",
       "dtype: object"
      ]
     },
     "execution_count": 9,
     "metadata": {},
     "output_type": "execute_result"
    }
   ],
   "source": [
    "#A saída do df.dtypes mostra que seus dados estão bem organizados\n",
    "df.dtypes"
   ]
  },
  {
   "cell_type": "code",
   "execution_count": 10,
   "id": "1aa3a6f2-7163-43df-953b-0149781ffbbe",
   "metadata": {},
   "outputs": [],
   "source": [
    "# Removendo espaços e padronizando texto em colunas categóricas\n",
    "df['category'] = df['category'].str.strip().str.lower()\n",
    "df['price_range'] = df['price_range'].str.strip().str.lower()\n",
    "\n",
    "# Tratamento seguro para a coluna tags\n",
    "df['tags'] = df['tags'].fillna('').astype(str).str.lower().str.split(',').apply(\n",
    "    lambda x: [tag.strip() for tag in x]\n",
    ")\n",
    "\n",
    "# Limpando e transformando paymentCodes em listas reais\n",
    "df['paymentCodes'] = df['paymentCodes'].fillna('').apply(\n",
    "    lambda x: [code.strip() for code in x.split('$$')] if x else []\n",
    ")\n",
    "\n",
    "# Colunas irrelevantes que podem ser descartadas\n",
    "df.drop(columns=['avatar', 'url'], inplace=True)"
   ]
  },
  {
   "cell_type": "code",
   "execution_count": 11,
   "id": "486e2a97-26cc-441c-a48f-5ca32eb8a914",
   "metadata": {},
   "outputs": [
    {
     "data": {
      "text/html": [
       "<div>\n",
       "<style scoped>\n",
       "    .dataframe tbody tr th:only-of-type {\n",
       "        vertical-align: middle;\n",
       "    }\n",
       "\n",
       "    .dataframe tbody tr th {\n",
       "        vertical-align: top;\n",
       "    }\n",
       "\n",
       "    .dataframe thead th {\n",
       "        text-align: right;\n",
       "    }\n",
       "</style>\n",
       "<table border=\"1\" class=\"dataframe\">\n",
       "  <thead>\n",
       "    <tr style=\"text-align: right;\">\n",
       "      <th></th>\n",
       "      <th>availableForScheduling</th>\n",
       "      <th>category</th>\n",
       "      <th>delivery_fee</th>\n",
       "      <th>delivery_time</th>\n",
       "      <th>distance</th>\n",
       "      <th>ibge</th>\n",
       "      <th>minimumOrderValue</th>\n",
       "      <th>name</th>\n",
       "      <th>paymentCodes</th>\n",
       "      <th>price_range</th>\n",
       "      <th>rating</th>\n",
       "      <th>tags</th>\n",
       "    </tr>\n",
       "  </thead>\n",
       "  <tbody>\n",
       "    <tr>\n",
       "      <th>0</th>\n",
       "      <td>False</td>\n",
       "      <td>marmita</td>\n",
       "      <td>3.99</td>\n",
       "      <td>27</td>\n",
       "      <td>1.22</td>\n",
       "      <td>5300108</td>\n",
       "      <td>10.0</td>\n",
       "      <td>Cantina Arte &amp; Sabor</td>\n",
       "      <td>[DNR, MPAY, MOVPAY_MC, MC, GPY_ELO, ELOD, GPY_...</td>\n",
       "      <td>cheapest</td>\n",
       "      <td>0.0</td>\n",
       "      <td>[address_preform_type $$ cart::mcht::100_deliv...</td>\n",
       "    </tr>\n",
       "    <tr>\n",
       "      <th>1</th>\n",
       "      <td>False</td>\n",
       "      <td>açaí</td>\n",
       "      <td>7.99</td>\n",
       "      <td>61</td>\n",
       "      <td>4.96</td>\n",
       "      <td>5300108</td>\n",
       "      <td>10.0</td>\n",
       "      <td>Raruty Açaí Raiz</td>\n",
       "      <td>[DNR, MPAY, MOVPAY_MC, MC, GPY_ELO, ELOD, GPY_...</td>\n",
       "      <td>cheapest</td>\n",
       "      <td>0.0</td>\n",
       "      <td>[address_preform_type $$ guided_help_type $$ m...</td>\n",
       "    </tr>\n",
       "    <tr>\n",
       "      <th>2</th>\n",
       "      <td>False</td>\n",
       "      <td>bebidas</td>\n",
       "      <td>11.99</td>\n",
       "      <td>70</td>\n",
       "      <td>8.35</td>\n",
       "      <td>5300108</td>\n",
       "      <td>5.0</td>\n",
       "      <td>Toma na Kombi</td>\n",
       "      <td>[DNR, MPAY, MOVPAY_MC, MC, GPY_ELO, RDREST, EL...</td>\n",
       "      <td>moderate</td>\n",
       "      <td>0.0</td>\n",
       "      <td>[address_preform_type $$ cpgn_user_discount_6_...</td>\n",
       "    </tr>\n",
       "    <tr>\n",
       "      <th>3</th>\n",
       "      <td>False</td>\n",
       "      <td>carnes</td>\n",
       "      <td>16.49</td>\n",
       "      <td>63</td>\n",
       "      <td>6.35</td>\n",
       "      <td>5300108</td>\n",
       "      <td>20.0</td>\n",
       "      <td>Churrasquinho do Barriga´s</td>\n",
       "      <td>[DNR, MPAY, MOVPAY_MC, MC, GPY_ELO, ELOD, GPY_...</td>\n",
       "      <td>cheapest</td>\n",
       "      <td>0.0</td>\n",
       "      <td>[address_preform_type $$ guided_help_type $$ n...</td>\n",
       "    </tr>\n",
       "    <tr>\n",
       "      <th>4</th>\n",
       "      <td>False</td>\n",
       "      <td>brasileira</td>\n",
       "      <td>11.99</td>\n",
       "      <td>58</td>\n",
       "      <td>5.22</td>\n",
       "      <td>5300108</td>\n",
       "      <td>20.0</td>\n",
       "      <td>Prime Restaurante</td>\n",
       "      <td>[DNR, MPAY, MOVPAY_MC, MC, GPY_ELO, ELOD, GPY_...</td>\n",
       "      <td>cheapest</td>\n",
       "      <td>0.0</td>\n",
       "      <td>[address_preform_type $$ guided_help_type $$ n...</td>\n",
       "    </tr>\n",
       "  </tbody>\n",
       "</table>\n",
       "</div>"
      ],
      "text/plain": [
       "   availableForScheduling    category  delivery_fee  delivery_time  distance  \\\n",
       "0                   False     marmita          3.99             27      1.22   \n",
       "1                   False        açaí          7.99             61      4.96   \n",
       "2                   False     bebidas         11.99             70      8.35   \n",
       "3                   False      carnes         16.49             63      6.35   \n",
       "4                   False  brasileira         11.99             58      5.22   \n",
       "\n",
       "      ibge  minimumOrderValue                        name  \\\n",
       "0  5300108               10.0        Cantina Arte & Sabor   \n",
       "1  5300108               10.0            Raruty Açaí Raiz   \n",
       "2  5300108                5.0               Toma na Kombi   \n",
       "3  5300108               20.0  Churrasquinho do Barriga´s   \n",
       "4  5300108               20.0           Prime Restaurante   \n",
       "\n",
       "                                        paymentCodes price_range  rating  \\\n",
       "0  [DNR, MPAY, MOVPAY_MC, MC, GPY_ELO, ELOD, GPY_...    cheapest     0.0   \n",
       "1  [DNR, MPAY, MOVPAY_MC, MC, GPY_ELO, ELOD, GPY_...    cheapest     0.0   \n",
       "2  [DNR, MPAY, MOVPAY_MC, MC, GPY_ELO, RDREST, EL...    moderate     0.0   \n",
       "3  [DNR, MPAY, MOVPAY_MC, MC, GPY_ELO, ELOD, GPY_...    cheapest     0.0   \n",
       "4  [DNR, MPAY, MOVPAY_MC, MC, GPY_ELO, ELOD, GPY_...    cheapest     0.0   \n",
       "\n",
       "                                                tags  \n",
       "0  [address_preform_type $$ cart::mcht::100_deliv...  \n",
       "1  [address_preform_type $$ guided_help_type $$ m...  \n",
       "2  [address_preform_type $$ cpgn_user_discount_6_...  \n",
       "3  [address_preform_type $$ guided_help_type $$ n...  \n",
       "4  [address_preform_type $$ guided_help_type $$ n...  "
      ]
     },
     "execution_count": 11,
     "metadata": {},
     "output_type": "execute_result"
    }
   ],
   "source": [
    "df.head()"
   ]
  },
  {
   "cell_type": "code",
   "execution_count": 12,
   "id": "940542fa-9638-4e42-97f6-1ac374b928e6",
   "metadata": {},
   "outputs": [],
   "source": [
    "# Colunas de texto que desejamos limpar\n",
    "colunas_texto = ['name', 'category', 'subcategories', 'city', 'state']\n",
    "\n",
    "# Aplicando apenas se a coluna existir\n",
    "for col in colunas_texto:\n",
    "    if col in df.columns:\n",
    "        df[col] = df[col].astype(str).str.strip().str.lower()"
   ]
  },
  {
   "cell_type": "code",
   "execution_count": 13,
   "id": "c865fede-db2e-46dd-9a19-d1a30d53bc71",
   "metadata": {},
   "outputs": [
    {
     "name": "stdout",
     "output_type": "stream",
     "text": [
      "Index(['availableForScheduling', 'category', 'delivery_fee', 'delivery_time',\n",
      "       'distance', 'ibge', 'minimumOrderValue', 'name', 'paymentCodes',\n",
      "       'price_range', 'rating', 'tags'],\n",
      "      dtype='object')\n",
      "availableForScheduling       bool\n",
      "category                   object\n",
      "delivery_fee              float64\n",
      "delivery_time               int64\n",
      "distance                  float64\n",
      "ibge                        int64\n",
      "minimumOrderValue         float64\n",
      "name                       object\n",
      "paymentCodes               object\n",
      "price_range                object\n",
      "rating                    float64\n",
      "tags                       object\n",
      "dtype: object\n"
     ]
    }
   ],
   "source": [
    "print(df.columns)\n",
    "print(df.dtypes)"
   ]
  },
  {
   "cell_type": "code",
   "execution_count": 14,
   "id": "1569e5e6-efcd-4098-9113-b5feb5de4699",
   "metadata": {},
   "outputs": [
    {
     "name": "stdout",
     "output_type": "stream",
     "text": [
      "availableForScheduling    0\n",
      "category                  0\n",
      "delivery_fee              0\n",
      "delivery_time             0\n",
      "distance                  0\n",
      "ibge                      0\n",
      "minimumOrderValue         0\n",
      "name                      0\n",
      "paymentCodes              0\n",
      "price_range               0\n",
      "rating                    0\n",
      "tags                      0\n",
      "dtype: int64\n"
     ]
    }
   ],
   "source": [
    "print(df.isnull().sum())"
   ]
  },
  {
   "cell_type": "code",
   "execution_count": 15,
   "id": "ed490712-91dd-4b2e-a0e2-7b621fe74739",
   "metadata": {},
   "outputs": [],
   "source": [
    "import ast\n",
    "\n",
    "def para_lista(x):\n",
    "    try:\n",
    "        return ast.literal_eval(x)\n",
    "    except:\n",
    "        return []\n",
    "\n",
    "df['paymentCodes'] = df['paymentCodes'].apply(para_lista)"
   ]
  },
  {
   "cell_type": "code",
   "execution_count": 16,
   "id": "2b52d1bc-74cc-410e-a806-ceea6a7d7e7a",
   "metadata": {},
   "outputs": [],
   "source": [
    "df['price_range'] = df['price_range'].str.lower().str.strip()\n",
    "df['price_range'] = df['price_range'].replace({'$$$': 'alto', '$$': 'medio', '$': 'baixo'})"
   ]
  },
  {
   "cell_type": "code",
   "execution_count": 17,
   "id": "28f00584-2fb6-4339-8c52-79d7fc007c67",
   "metadata": {},
   "outputs": [],
   "source": [
    "# delivery_time\n",
    "q1 = df['delivery_time'].quantile(0.25)\n",
    "q3 = df['delivery_time'].quantile(0.75)\n",
    "iqr = q3 - q1\n",
    "limite_superior = q3 + 1.5 * iqr\n",
    "\n",
    "df = df[df['delivery_time'] <= limite_superior]"
   ]
  },
  {
   "cell_type": "code",
   "execution_count": 18,
   "id": "3c579079-59f7-4743-b838-f390c18cdc9e",
   "metadata": {},
   "outputs": [],
   "source": [
    "# distance\n",
    "q1 = df['distance'].quantile(0.25)\n",
    "q3 = df['distance'].quantile(0.75)\n",
    "iqr = q3 - q1\n",
    "limite_superior = q3 + 1.5 * iqr\n",
    "\n",
    "df = df[df['distance'] <= limite_superior]"
   ]
  },
  {
   "cell_type": "code",
   "execution_count": 19,
   "id": "92d21aaa-dd03-42d7-9b03-950bc1c47818",
   "metadata": {},
   "outputs": [],
   "source": [
    "# minimumOrderValue\n",
    "q1 = df['minimumOrderValue'].quantile(0.25)\n",
    "q3 = df['minimumOrderValue'].quantile(0.75)\n",
    "iqr = q3 - q1\n",
    "limite_superior = q3 + 1.5 * iqr\n",
    "\n",
    "df = df[df['minimumOrderValue'] <= limite_superior]"
   ]
  },
  {
   "cell_type": "code",
   "execution_count": 20,
   "id": "4d4b2a43-488c-4468-8113-fbda4f2d9f21",
   "metadata": {},
   "outputs": [],
   "source": [
    "df.to_csv('dados_ifood_limpos.csv', index=False)"
   ]
  },
  {
   "cell_type": "code",
   "execution_count": 21,
   "id": "729bb35a-e2c0-40cf-a687-6900540f2a86",
   "metadata": {},
   "outputs": [
    {
     "data": {
      "image/png": "[encoded data removed]",
      "text/plain": [
       "<Figure size 640x480 with 1 Axes>"
      ]
     },
     "metadata": {},
     "output_type": "display_data"
    },
    {
     "data": {
      "image/png": "[encoded data removed]",
      "text/plain": [
       "<Figure size 640x480 with 1 Axes>"
      ]
     },
     "metadata": {},
     "output_type": "display_data"
    }
   ],
   "source": [
    "import seaborn as sns\n",
    "import matplotlib.pyplot as plt\n",
    "\n",
    "sns.boxplot(x=df['delivery_fee'])\n",
    "plt.show()\n",
    "\n",
    "sns.boxplot(x=df['delivery_time'])\n",
    "plt.show()"
   ]
  },
  {
   "cell_type": "code",
   "execution_count": 22,
   "id": "a430ac50-3e16-42ee-b21a-2cf3aec5c849",
   "metadata": {},
   "outputs": [
    {
     "name": "stdout",
     "output_type": "stream",
     "text": [
      "Filtrando valores em 'delivery_fee' fora dos limites [-4.234999999999999, 17.725]\n",
      "Registros antes: 392879 | Registros depois: 391629\n",
      "Removidos: 1250\n",
      "\n",
      "Filtrando valores em 'delivery_time' fora dos limites [-2.5, 97.5]\n",
      "Registros antes: 391629 | Registros depois: 391629\n",
      "Removidos: 0\n",
      "\n",
      "Filtrando valores em 'distance' fora dos limites [-2.7850000000000006, 9.255]\n",
      "Registros antes: 391629 | Registros depois: 391404\n",
      "Removidos: 225\n",
      "\n",
      "Filtrando valores em 'minimumOrderValue' fora dos limites [-5.0, 35.0]\n",
      "Registros antes: 391404 | Registros depois: 391404\n",
      "Removidos: 0\n",
      "\n",
      "Filtrando valores em 'rating' fora dos limites [-7.078125, 11.796875]\n",
      "Registros antes: 391404 | Registros depois: 391404\n",
      "Removidos: 0\n",
      "\n",
      "Total de registros após limpeza: 391404\n"
     ]
    }
   ],
   "source": [
    "#O que o código faz:\n",
    "#Define um conjunto de colunas numéricas que fazem sentido para verificar outliers.\n",
    "#Para cada coluna, calcula o limite inferior e superior pelo método clássico do IQR (1.5x).\n",
    "#Filtra o dataframe para manter apenas os dados dentro desses limites.\n",
    "#Imprime quantos registros foram removidos para cada coluna.\n",
    "#No final, mostra quantos registros sobraram após a limpeza.\n",
    "    \n",
    "# Lista das colunas numéricas para aplicar o filtro de outliers\n",
    "colunas_numericas = ['delivery_fee', 'delivery_time', 'distance', 'minimumOrderValue', 'rating']\n",
    "\n",
    "# Função para calcular limites inferior e superior pelo método IQR com multiplicador 1.5\n",
    "def calcula_limites_iqr(df, coluna, multiplier=1.5):\n",
    "    Q1 = df[coluna].quantile(0.25)\n",
    "    Q3 = df[coluna].quantile(0.75)\n",
    "    IQR = Q3 - Q1\n",
    "    limite_inferior = Q1 - multiplier * IQR\n",
    "    limite_superior = Q3 + multiplier * IQR\n",
    "    return limite_inferior, limite_superior\n",
    "\n",
    "# Copia do dataframe original para não perder dados originais\n",
    "df_limpo = df.copy()\n",
    "\n",
    "for col in colunas_numericas:\n",
    "    li, ls = calcula_limites_iqr(df_limpo, col)\n",
    "    print(f\"Filtrando valores em '{col}' fora dos limites [{li}, {ls}]\")\n",
    "    antes = df_limpo.shape[0]\n",
    "    # Mantém apenas os dados dentro dos limites calculados (remove outliers)\n",
    "    df_limpo = df_limpo[(df_limpo[col] >= li) & (df_limpo[col] <= ls)]\n",
    "    depois = df_limpo.shape[0]\n",
    "    print(f\"Registros antes: {antes} | Registros depois: {depois}\")\n",
    "    print(f\"Removidos: {antes - depois}\\n\")\n",
    "\n",
    "print(f\"Total de registros após limpeza: {df_limpo.shape[0]}\")"
   ]
  },
  {
   "cell_type": "code",
   "execution_count": 24,
   "id": "01fbddfc-7f9a-410a-a32f-0ec184587621",
   "metadata": {},
   "outputs": [
    {
     "name": "stdout",
     "output_type": "stream",
     "text": [
      "Arquivo salvo como 'ifood_data_limpo.csv'\n"
     ]
    }
   ],
   "source": [
    "# Salvar o dataframe limpo em um arquivo CSV\n",
    "df.to_csv('../data/ifood_data_limpo.csv', index=False)\n",
    "print(\"Arquivo salvo como 'ifood_data_limpo.csv'\")"
   ]
  },
  {
   "cell_type": "code",
   "execution_count": null,
   "id": "baa22a8f-b3a1-4e47-a5b2-d0b382adcb27",
   "metadata": {},
   "outputs": [],
   "source": []
  }
 ],
 "metadata": {
  "kernelspec": {
   "display_name": "Python [conda env:base] *",
   "language": "python",
   "name": "conda-base-py"
  },
  "language_info": {
   "codemirror_mode": {
    "name": "ipython",
    "version": 3
   },
   "file_extension": ".py",
   "mimetype": "text/x-python",
   "name": "python",
   "nbconvert_exporter": "python",
   "pygments_lexer": "ipython3",
   "version": "3.12.7"
  }
 },
 "nbformat": 4,
 "nbformat_minor": 5
}
